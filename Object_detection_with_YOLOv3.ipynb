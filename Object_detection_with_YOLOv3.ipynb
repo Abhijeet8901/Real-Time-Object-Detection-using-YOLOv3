{
  "nbformat": 4,
  "nbformat_minor": 0,
  "metadata": {
    "colab": {
      "name": "Copy of Welcome to Colaboratory",
      "provenance": [],
      "collapsed_sections": [],
      "include_colab_link": true
    },
    "kernelspec": {
      "display_name": "Python 3",
      "name": "python3"
    },
    "accelerator": "GPU"
  },
  "cells": [
    {
      "cell_type": "markdown",
      "metadata": {
        "id": "view-in-github",
        "colab_type": "text"
      },
      "source": [
        "<a href=\"https://colab.research.google.com/github/Abhijeet8901/Real-Time-Object-Detection-using-YOLOv3/blob/master/Object_detection_with_YOLOv3.ipynb\" target=\"_parent\"><img src=\"https://colab.research.google.com/assets/colab-badge.svg\" alt=\"Open In Colab\"/></a>"
      ]
    },
    {
      "cell_type": "code",
      "metadata": {
        "id": "YXfJ3vU57fkU",
        "colab_type": "code",
        "colab": {}
      },
      "source": [
        "import numpy as np\n",
        "import argparse\n",
        "import cv2 as cv\n",
        "import subprocess\n",
        "import time\n",
        "import os\n",
        "from google.colab.patches import cv_imshow"
      ],
      "execution_count": null,
      "outputs": []
    },
    {
      "cell_type": "code",
      "metadata": {
        "id": "RPIMKcNRWzSw",
        "colab_type": "code",
        "colab": {
          "base_uri": "https://localhost:8080/",
          "height": 122
        },
        "outputId": "4a02505a-0758-4a48-bf28-4d3a0a2299d2"
      },
      "source": [
        "from google.colab import drive\n",
        "drive.mount('/content/gdrive')"
      ],
      "execution_count": null,
      "outputs": [
        {
          "output_type": "stream",
          "text": [
            "Go to this URL in a browser: https://accounts.google.com/o/oauth2/auth?client_id=947318989803-6bn6qk8qdgf4n4g3pfee6491hc0brc4i.apps.googleusercontent.com&redirect_uri=urn%3aietf%3awg%3aoauth%3a2.0%3aoob&response_type=code&scope=email%20https%3a%2f%2fwww.googleapis.com%2fauth%2fdocs.test%20https%3a%2f%2fwww.googleapis.com%2fauth%2fdrive%20https%3a%2f%2fwww.googleapis.com%2fauth%2fdrive.photos.readonly%20https%3a%2f%2fwww.googleapis.com%2fauth%2fpeopleapi.readonly\n",
            "\n",
            "Enter your authorization code:\n",
            "··········\n",
            "Mounted at /content/gdrive\n"
          ],
          "name": "stdout"
        }
      ]
    },
    {
      "cell_type": "code",
      "metadata": {
        "id": "_vo4pSB1fh5R",
        "colab_type": "code",
        "colab": {}
      },
      "source": [
        "confidence=0.5\n",
        "threshold=0.3"
      ],
      "execution_count": null,
      "outputs": []
    },
    {
      "cell_type": "code",
      "metadata": {
        "id": "wra5wgY57gQH",
        "colab_type": "code",
        "colab": {}
      },
      "source": [
        "def draw_labels_and_boxes(img, boxes, confidences, classids, idxs, colors, labels):\n",
        "    \n",
        "    if len(idxs) > 0:\n",
        "        for i in idxs.flatten():\n",
        "            x, y = boxes[i][0], boxes[i][1]\n",
        "            w, h = boxes[i][2], boxes[i][3]\n",
        "\n",
        "            color = [int(c) for c in colors[classids[i]]]\n",
        "\n",
        "            cv.rectangle(img, (x, y), (x+w, y+h), color, 2)\n",
        "            text = \"{}: {:4f}\".format(labels[classids[i]], confidences[i])\n",
        "            cv.putText(img, text, (x, y-5), cv.FONT_HERSHEY_SIMPLEX, 0.5, color, 2)\n",
        "\n",
        "    return img"
      ],
      "execution_count": null,
      "outputs": []
    },
    {
      "cell_type": "code",
      "metadata": {
        "id": "lJrGDbsX7i5f",
        "colab_type": "code",
        "colab": {}
      },
      "source": [
        "def generate_boxes_confidences_classids(outs, height, width, tconf):\n",
        "    boxes = []\n",
        "    confidences = []\n",
        "    classids = []\n",
        "\n",
        "    for out in outs:\n",
        "        for detection in out:\n",
        "\n",
        "            scores = detection[5:]\n",
        "            classid = np.argmax(scores)\n",
        "            confidence = scores[classid]\n",
        "\n",
        "            if confidence > tconf:\n",
        "                \n",
        "                box = detection[0:4] * np.array([width, height, width, height])\n",
        "                centerX, centerY, bwidth, bheight = box.astype('int')\n",
        "\n",
        "               \n",
        "                x = int(centerX - (bwidth / 2))\n",
        "                y = int(centerY - (bheight / 2))\n",
        "\n",
        "               \n",
        "                boxes.append([x, y, int(bwidth), int(bheight)])\n",
        "                confidences.append(float(confidence))\n",
        "                classids.append(classid)\n",
        "\n",
        "    return boxes, confidences, classids\n"
      ],
      "execution_count": null,
      "outputs": []
    },
    {
      "cell_type": "code",
      "metadata": {
        "id": "h2rGNPhi7mC3",
        "colab_type": "code",
        "colab": {}
      },
      "source": [
        "def infer_image(net, layer_names, height, width, img, colors, labels,\n",
        "            boxes=None, confidences=None, classids=None, idxs=None, infer=True):\n",
        "\n",
        "    if infer:\n",
        "        \n",
        "        blob = cv.dnn.blobFromImage(img, 1 / 255.0, (416, 416),\n",
        "                        swapRB=True, crop=False)\n",
        "\n",
        "        net.setInput(blob)\n",
        "\n",
        "        outs = net.forward(layer_names)\n",
        "\n",
        "        boxes, confidences, classids = generate_boxes_confidences_classids(outs, height, width, confidence)\n",
        "\n",
        "        idxs = cv.dnn.NMSBoxes(boxes, confidences, confidence, threshold)\n",
        "\n",
        "    if boxes is None or confidences is None or idxs is None or classids is None:\n",
        "        raise '[ERROR] You gotta be kidding me.'\n",
        "\n",
        "    img = draw_labels_and_boxes(img, boxes, confidences, classids, idxs, colors, labels)\n",
        "\n",
        "    return img, boxes, confidences, classids, idxs"
      ],
      "execution_count": null,
      "outputs": []
    },
    {
      "cell_type": "code",
      "metadata": {
        "id": "EdkmABep7zfH",
        "colab_type": "code",
        "colab": {}
      },
      "source": [
        "# Give paths to everything\n",
        "weights=\"gdrive/My Drive/yolov3-tiny.weights\"\n",
        "config=\"gdrive/My Drive/yolov3-tiny.cfg\"\n",
        "video_path=\"gdrive/My Drive/Chicago_360p.mp4\"\n",
        "label=\"gdrive/My Drive/coco-labels\"\n",
        "output_path=\"gdrive/My Drive/output.mp4\""
      ],
      "execution_count": null,
      "outputs": []
    },
    {
      "cell_type": "code",
      "metadata": {
        "id": "06iLGw3Nanjm",
        "colab_type": "code",
        "colab": {}
      },
      "source": [
        "labels = open(label).read().strip().split('\\n')\n",
        "colors = np.random.randint(0, 255, size=(len(labels), 3), dtype='uint8')\n",
        "net = cv.dnn.readNetFromDarknet(config, weights)\n",
        "layer_names = net.getLayerNames()\n",
        "layer_names = [layer_names[i[0] - 1] for i in net.getUnconnectedOutLayers()]"
      ],
      "execution_count": null,
      "outputs": []
    },
    {
      "cell_type": "code",
      "metadata": {
        "id": "_pnundcDdltX",
        "colab_type": "code",
        "colab": {}
      },
      "source": [
        "vid = cv.VideoCapture(str(video_path))\n",
        "height, width, writer= None, None, None\n",
        "\n",
        "while True:\n",
        "\n",
        "  grabbed, frame = vid.read()\n",
        "  \n",
        "  if not grabbed:\n",
        "\t  break\n",
        "\n",
        "  if width is None or height is None:\n",
        "    height, width = frame.shape[:2]\n",
        "\n",
        "  frame, _, _, _, _ = infer_image(net, layer_names, height, width, frame, colors, labels)\n",
        "\n",
        "  if writer is None:\n",
        "\t  fourcc = cv.VideoWriter_fourcc(*'mp4v')\n",
        "\t  writer = cv.VideoWriter(output_path, fourcc, 30,(frame.shape[1], frame.shape[0]), True)\n",
        "\n",
        "  writer.write(frame)\n",
        "\n",
        "writer.release()\n",
        "vid.release()"
      ],
      "execution_count": null,
      "outputs": []
    },
    {
      "cell_type": "code",
      "metadata": {
        "id": "IS4oyvSTh793",
        "colab_type": "code",
        "colab": {}
      },
      "source": [
        ""
      ],
      "execution_count": null,
      "outputs": []
    }
  ]
}